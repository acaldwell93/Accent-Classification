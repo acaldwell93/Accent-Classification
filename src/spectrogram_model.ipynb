{
 "cells": [
  {
   "cell_type": "code",
   "execution_count": 18,
   "id": "under-algorithm",
   "metadata": {},
   "outputs": [],
   "source": [
    "import tensorflow as tf\n",
    "from tensorflow import keras\n",
    "from tensorflow.keras.models import Sequential\n",
    "from tensorflow.keras.layers import Dense, Dropout, Activation, Flatten, BatchNormalization, InputLayer\n",
    "from tensorflow.keras.layers import Conv2D, MaxPooling2D, Conv1D, MaxPooling1D\n",
    "from tensorflow.keras.preprocessing.image import ImageDataGenerator, array_to_img, img_to_array, load_img"
   ]
  },
  {
   "cell_type": "code",
   "execution_count": 2,
   "id": "infrared-voice",
   "metadata": {},
   "outputs": [
    {
     "name": "stdout",
     "output_type": "stream",
     "text": [
      "Found 260 images belonging to 2 classes.\n",
      "Found 88 images belonging to 2 classes.\n"
     ]
    }
   ],
   "source": [
    "batch_size = 32\n",
    "target_size = (500,500)\n",
    "\n",
    "train_datagen = ImageDataGenerator(rescale=1./255)\n",
    "\n",
    "test_datagen = ImageDataGenerator(rescale=1./255)\n",
    "\n",
    "\n",
    "train_generator = train_datagen.flow_from_directory('../data/recordings/cleaned_set/spectrogram/train_set',\n",
    "                                                    color_mode='rgb',\n",
    "                                                    target_size=target_size,\n",
    "                                                    batch_size=batch_size,\n",
    "                                                    class_mode=\"categorical\")\n",
    "\n",
    "validation_generator = test_datagen.flow_from_directory('../data/recordings/cleaned_set/spectrogram/test_set',\n",
    "                                                       color_mode='rgb',\n",
    "                                                       target_size=target_size,\n",
    "                                                       batch_size=batch_size,\n",
    "                                                       class_mode='categorical')"
   ]
  },
  {
   "cell_type": "code",
   "execution_count": 15,
   "id": "homeless-joining",
   "metadata": {},
   "outputs": [
    {
     "name": "stdout",
     "output_type": "stream",
     "text": [
      "Model: \"sequential_8\"\n",
      "_________________________________________________________________\n",
      "Layer (type)                 Output Shape              Param #   \n",
      "=================================================================\n",
      "conv2d_16 (Conv2D)           (None, 125, 125, 16)      1216      \n",
      "_________________________________________________________________\n",
      "batch_normalization_3 (Batch (None, 125, 125, 16)      64        \n",
      "_________________________________________________________________\n",
      "max_pooling2d_13 (MaxPooling (None, 62, 62, 16)        0         \n",
      "_________________________________________________________________\n",
      "conv2d_17 (Conv2D)           (None, 62, 62, 32)        12832     \n",
      "_________________________________________________________________\n",
      "max_pooling2d_14 (MaxPooling (None, 31, 31, 32)        0         \n",
      "_________________________________________________________________\n",
      "conv2d_18 (Conv2D)           (None, 31, 31, 64)        18496     \n",
      "_________________________________________________________________\n",
      "max_pooling2d_15 (MaxPooling (None, 15, 15, 64)        0         \n",
      "_________________________________________________________________\n",
      "flatten_6 (Flatten)          (None, 14400)             0         \n",
      "_________________________________________________________________\n",
      "dense_13 (Dense)             (None, 64)                921664    \n",
      "_________________________________________________________________\n",
      "dropout_9 (Dropout)          (None, 64)                0         \n",
      "_________________________________________________________________\n",
      "dense_14 (Dense)             (None, 2)                 130       \n",
      "=================================================================\n",
      "Total params: 954,402\n",
      "Trainable params: 954,370\n",
      "Non-trainable params: 32\n",
      "_________________________________________________________________\n"
     ]
    }
   ],
   "source": [
    "model=Sequential()\n",
    "\n",
    "model.add(Conv2D(16, (5,5), strides=4, padding='same', input_shape=(target_size[0], target_size[1], 3), activation='relu'))\n",
    "model.add(BatchNormalization())\n",
    "model.add(MaxPooling2D(pool_size=3, strides=2))\n",
    "\n",
    "model.add(Conv2D(32, (5,5), padding='same', activation='relu'))\n",
    "model.add(MaxPooling2D(pool_size=2, strides=2))\n",
    "\n",
    "model.add(Conv2D(64, (3,3), padding='same', activation='relu'))\n",
    "model.add(MaxPooling2D(pool_size=2, strides=2))\n",
    "\n",
    "model.add(Flatten())\n",
    "model.add(Dense(64, activation='relu'))\n",
    "model.add(Dropout(0.25))\n",
    "model.add(Dense(2, activation='softmax'))\n",
    "\n",
    "model.compile(loss='categorical_crossentropy', optimizer='adam', metrics=['accuracy'])\n",
    "model.summary()"
   ]
  },
  {
   "cell_type": "code",
   "execution_count": 16,
   "id": "conceptual-settlement",
   "metadata": {},
   "outputs": [
    {
     "name": "stdout",
     "output_type": "stream",
     "text": [
      "Epoch 1/50\n",
      "9/9 [==============================] - 13s 1s/step - loss: 2.4169 - accuracy: 0.4725 - val_loss: 0.7208 - val_accuracy: 0.4886\n",
      "Epoch 2/50\n",
      "9/9 [==============================] - 12s 1s/step - loss: 0.7368 - accuracy: 0.4942 - val_loss: 0.6925 - val_accuracy: 0.4886\n",
      "Epoch 3/50\n",
      "9/9 [==============================] - 12s 1s/step - loss: 0.6750 - accuracy: 0.5489 - val_loss: 0.6932 - val_accuracy: 0.4886\n",
      "Epoch 4/50\n",
      "9/9 [==============================] - 12s 1s/step - loss: 0.6248 - accuracy: 0.7268 - val_loss: 0.6841 - val_accuracy: 0.5000\n",
      "Epoch 5/50\n",
      "9/9 [==============================] - 12s 1s/step - loss: 0.5424 - accuracy: 0.7742 - val_loss: 0.6810 - val_accuracy: 0.5795\n",
      "Epoch 6/50\n",
      "9/9 [==============================] - 12s 1s/step - loss: 0.5033 - accuracy: 0.7450 - val_loss: 0.6855 - val_accuracy: 0.5909\n",
      "Epoch 7/50\n",
      "9/9 [==============================] - 12s 1s/step - loss: 0.4381 - accuracy: 0.8026 - val_loss: 0.6822 - val_accuracy: 0.6364\n",
      "Epoch 8/50\n",
      "9/9 [==============================] - 12s 1s/step - loss: 0.4427 - accuracy: 0.8089 - val_loss: 0.6753 - val_accuracy: 0.6136\n",
      "Epoch 9/50\n",
      "9/9 [==============================] - 12s 1s/step - loss: 0.4625 - accuracy: 0.7985 - val_loss: 0.6833 - val_accuracy: 0.5000\n",
      "Epoch 10/50\n",
      "9/9 [==============================] - 12s 1s/step - loss: 0.5102 - accuracy: 0.7362 - val_loss: 0.6842 - val_accuracy: 0.5227\n",
      "Epoch 11/50\n",
      "9/9 [==============================] - 12s 2s/step - loss: 0.4721 - accuracy: 0.7487 - val_loss: 0.6804 - val_accuracy: 0.6364\n",
      "Epoch 12/50\n",
      "9/9 [==============================] - 13s 1s/step - loss: 0.3797 - accuracy: 0.8472 - val_loss: 0.6748 - val_accuracy: 0.6250\n",
      "Epoch 13/50\n",
      "9/9 [==============================] - 12s 1s/step - loss: 0.3404 - accuracy: 0.8629 - val_loss: 0.6670 - val_accuracy: 0.6136\n",
      "Epoch 14/50\n",
      "9/9 [==============================] - 12s 1s/step - loss: 0.2847 - accuracy: 0.8722 - val_loss: 0.6482 - val_accuracy: 0.6023\n",
      "Epoch 15/50\n",
      "9/9 [==============================] - 13s 1s/step - loss: 0.2378 - accuracy: 0.9244 - val_loss: 0.6306 - val_accuracy: 0.6250\n",
      "Epoch 16/50\n",
      "9/9 [==============================] - 12s 1s/step - loss: 0.1625 - accuracy: 0.9583 - val_loss: 0.6107 - val_accuracy: 0.6591\n",
      "Epoch 17/50\n",
      "9/9 [==============================] - 12s 1s/step - loss: 0.1367 - accuracy: 0.9566 - val_loss: 0.5924 - val_accuracy: 0.6705\n",
      "Epoch 18/50\n",
      "9/9 [==============================] - 12s 1s/step - loss: 0.1152 - accuracy: 0.9576 - val_loss: 0.6155 - val_accuracy: 0.6364\n",
      "Epoch 19/50\n",
      "9/9 [==============================] - 12s 1s/step - loss: 0.1051 - accuracy: 0.9688 - val_loss: 0.5731 - val_accuracy: 0.7045\n",
      "Epoch 20/50\n",
      "9/9 [==============================] - 13s 2s/step - loss: 0.0723 - accuracy: 0.9780 - val_loss: 0.5533 - val_accuracy: 0.7614\n",
      "Epoch 21/50\n",
      "9/9 [==============================] - 12s 1s/step - loss: 0.0639 - accuracy: 0.9857 - val_loss: 0.5847 - val_accuracy: 0.7386\n",
      "Epoch 22/50\n",
      "9/9 [==============================] - 12s 1s/step - loss: 0.0475 - accuracy: 0.9912 - val_loss: 0.5862 - val_accuracy: 0.7614\n",
      "Epoch 23/50\n",
      "9/9 [==============================] - 13s 1s/step - loss: 0.0677 - accuracy: 0.9739 - val_loss: 0.6030 - val_accuracy: 0.7614\n",
      "Epoch 24/50\n",
      "9/9 [==============================] - 12s 1s/step - loss: 0.0507 - accuracy: 0.9915 - val_loss: 0.6174 - val_accuracy: 0.7045\n",
      "Epoch 25/50\n",
      "9/9 [==============================] - 12s 1s/step - loss: 0.0199 - accuracy: 0.9946 - val_loss: 0.6333 - val_accuracy: 0.6932\n",
      "Epoch 26/50\n",
      "9/9 [==============================] - 12s 1s/step - loss: 0.0153 - accuracy: 0.9980 - val_loss: 0.6370 - val_accuracy: 0.7273\n",
      "Epoch 27/50\n",
      "9/9 [==============================] - 12s 1s/step - loss: 0.0078 - accuracy: 1.0000 - val_loss: 0.6465 - val_accuracy: 0.7386\n",
      "Epoch 28/50\n",
      "9/9 [==============================] - 12s 1s/step - loss: 0.0104 - accuracy: 1.0000 - val_loss: 0.6729 - val_accuracy: 0.7500\n",
      "Epoch 29/50\n",
      "9/9 [==============================] - 13s 2s/step - loss: 0.0062 - accuracy: 1.0000 - val_loss: 0.7252 - val_accuracy: 0.7614\n",
      "Epoch 30/50\n",
      "9/9 [==============================] - 12s 1s/step - loss: 0.0100 - accuracy: 1.0000 - val_loss: 0.7250 - val_accuracy: 0.7273\n"
     ]
    }
   ],
   "source": [
    "checkpoint_cb = keras.callbacks.ModelCheckpoint('spectrogram_model.h5')\n",
    "early_stopping_cb = keras.callbacks.EarlyStopping(monitor='val_accuracy', patience=10, restore_best_weights=True)\n",
    "\n",
    "history = model.fit(\n",
    "    train_generator,\n",
    "    validation_data = validation_generator, \n",
    "    verbose=1,\n",
    "    epochs = 50,\n",
    "    callbacks=[checkpoint_cb, early_stopping_cb])"
   ]
  },
  {
   "cell_type": "code",
   "execution_count": 19,
   "id": "sudden-porter",
   "metadata": {},
   "outputs": [],
   "source": [
    "filepath = \"../data/recordings/cleaned_set/cleaned_train_set/spanish/spanish1.wav\""
   ]
  },
  {
   "cell_type": "code",
   "execution_count": 27,
   "id": "english-principle",
   "metadata": {},
   "outputs": [],
   "source": [
    "import librosa\n",
    "import IPython.display\n",
    "import librosa.display"
   ]
  },
  {
   "cell_type": "code",
   "execution_count": 65,
   "id": "prescribed-tobago",
   "metadata": {},
   "outputs": [],
   "source": [
    "audio, sr = librosa.load(filepath)"
   ]
  },
  {
   "cell_type": "code",
   "execution_count": 87,
   "id": "vital-creek",
   "metadata": {},
   "outputs": [],
   "source": [
    "audio_tf = tf.io.read_file(filepath)\n",
    "audio_tf = tf.audio.decode_wav(audio_tf, 1, desired_samples= 16000*20)"
   ]
  },
  {
   "cell_type": "code",
   "execution_count": 88,
   "id": "authorized-bobby",
   "metadata": {},
   "outputs": [
    {
     "data": {
      "text/plain": [
       "DecodeWav(audio=<tf.Tensor: shape=(320000, 1), dtype=float32, numpy=\n",
       "array([[0.00137329],\n",
       "       [0.00210571],\n",
       "       [0.0017395 ],\n",
       "       ...,\n",
       "       [0.01486206],\n",
       "       [0.01464844],\n",
       "       [0.01159668]], dtype=float32)>, sample_rate=<tf.Tensor: shape=(), dtype=int32, numpy=16000>)"
      ]
     },
     "execution_count": 88,
     "metadata": {},
     "output_type": "execute_result"
    }
   ],
   "source": [
    "audio_tf"
   ]
  },
  {
   "cell_type": "code",
   "execution_count": 28,
   "id": "amended-solomon",
   "metadata": {},
   "outputs": [
    {
     "data": {
      "text/plain": [
       "<matplotlib.collections.PolyCollection at 0x7ff21faf1a30>"
      ]
     },
     "execution_count": 28,
     "metadata": {},
     "output_type": "execute_result"
    },
    {
     "data": {
      "image/png": "[encoded data removed]",
      "text/plain": [
       "<Figure size 432x288 with 1 Axes>"
      ]
     },
     "metadata": {
      "needs_background": "light"
     },
     "output_type": "display_data"
    }
   ],
   "source": [
    "librosa.display.waveplot(audio, sr=sr)"
   ]
  },
  {
   "cell_type": "code",
   "execution_count": 71,
   "id": "early-accordance",
   "metadata": {},
   "outputs": [],
   "source": [
    "mfcc_librosa = librosa.feature.mfcc(audio, sr, n_fft=512,\n",
    "                                    n_mfcc=20, n_mels=40,\n",
    "                                    hop_length=160)"
   ]
  },
  {
   "cell_type": "code",
   "execution_count": 89,
   "id": "arbitrary-harvest",
   "metadata": {
    "scrolled": true
   },
   "outputs": [
    {
     "data": {
      "text/plain": [
       "(20, 4637)"
      ]
     },
     "execution_count": 89,
     "metadata": {},
     "output_type": "execute_result"
    }
   ],
   "source": [
    "mfcc_librosa.shape"
   ]
  },
  {
   "cell_type": "code",
   "execution_count": 94,
   "id": "veterinary-consistency",
   "metadata": {},
   "outputs": [
    {
     "data": {
      "text/plain": [
       "(20, 4000)"
      ]
     },
     "execution_count": 94,
     "metadata": {},
     "output_type": "execute_result"
    }
   ],
   "source": [
    "mfccs = mfcc_librosa.copy()\n",
    "mfccs.resize((20, 4000), refcheck=False)\n",
    "mfccs.shape"
   ]
  },
  {
   "cell_type": "code",
   "execution_count": 80,
   "id": "amended-acquisition",
   "metadata": {},
   "outputs": [],
   "source": [
    "import sklearn.preprocessing"
   ]
  },
  {
   "cell_type": "code",
   "execution_count": 95,
   "id": "intensive-guess",
   "metadata": {
    "scrolled": true
   },
   "outputs": [
    {
     "name": "stderr",
     "output_type": "stream",
     "text": [
      "/Users/AustinCaldwell/opt/anaconda3/lib/python3.8/site-packages/sklearn/preprocessing/_data.py:174: UserWarning: Numerical issues were encountered when centering the data and might not be solved. Dataset may contain too large values. You may need to prescale your features.\n",
      "  warnings.warn(\"Numerical issues were encountered \"\n",
      "/Users/AustinCaldwell/opt/anaconda3/lib/python3.8/site-packages/sklearn/preprocessing/_data.py:191: UserWarning: Numerical issues were encountered when scaling the data and might not be solved. The standard deviation of the data is probably very close to 0. \n",
      "  warnings.warn(\"Numerical issues were encountered \"\n"
     ]
    }
   ],
   "source": [
    "mfccs = sklearn.preprocessing.scale(mfccs)"
   ]
  },
  {
   "cell_type": "code",
   "execution_count": 97,
   "id": "foster-lotus",
   "metadata": {},
   "outputs": [
    {
     "data": {
      "text/plain": [
       "(20, 4000)"
      ]
     },
     "execution_count": 97,
     "metadata": {},
     "output_type": "execute_result"
    }
   ],
   "source": [
    "mfccs.shape"
   ]
  },
  {
   "cell_type": "code",
   "execution_count": null,
   "id": "brown-judges",
   "metadata": {},
   "outputs": [],
   "source": [
    "train_dataset = tf.data.Dataset.from_tensor_slices((train_examples, train_labels))"
   ]
  },
  {
   "cell_type": "code",
   "execution_count": 75,
   "id": "possible-credit",
   "metadata": {},
   "outputs": [
    {
     "data": {
      "text/plain": [
       "(20, 4637)"
      ]
     },
     "execution_count": 75,
     "metadata": {},
     "output_type": "execute_result"
    }
   ],
   "source": [
    "librosa.feature.delta(mfcc_librosa).shape"
   ]
  },
  {
   "cell_type": "code",
   "execution_count": 62,
   "id": "headed-steel",
   "metadata": {},
   "outputs": [],
   "source": [
    "audio = audio.reshape(-1,1)"
   ]
  },
  {
   "cell_type": "code",
   "execution_count": 63,
   "id": "chinese-graphic",
   "metadata": {},
   "outputs": [
    {
     "data": {
      "text/plain": [
       "array([[ -6.36652617,   1.58400755, -13.08271662, ...,   0.21847831,\n",
       "         -0.67432119,   0.51622862],\n",
       "       [ -5.33029351,   0.7710063 ,  -8.42748149, ...,   0.06798047,\n",
       "         -1.04851019,  -0.46158262],\n",
       "       [ -4.94640184,   2.20628886,  -6.20168443, ...,   0.16029781,\n",
       "         -0.73196631,  -0.84404854],\n",
       "       ...,\n",
       "       [ -8.49153412,  -0.89384166, -15.29480091, ...,   0.04057602,\n",
       "         -1.16855141,   0.63110049],\n",
       "       [ -8.55173367,  -1.77328721, -12.48071577, ...,  -0.02029097,\n",
       "         -0.8221585 ,  -0.46384749],\n",
       "       [ -8.48522184,  -5.57551442,  -4.64622673, ...,  -0.10428296,\n",
       "         -0.35322452,  -1.9328262 ]])"
      ]
     },
     "execution_count": 63,
     "metadata": {},
     "output_type": "execute_result"
    }
   ],
   "source": [
    "mfcc(audio, numcep=40)"
   ]
  },
  {
   "cell_type": "code",
   "execution_count": 98,
   "id": "covered-chile",
   "metadata": {},
   "outputs": [],
   "source": [
    "from tensorflow.keras.models import Sequential\n",
    "from tensorflow.keras.layers import Dense, Dropout, Activation, Flatten, BatchNormalization, InputLayer\n",
    "from tensorflow.keras.layers import Conv2D, MaxPooling2D, Conv1D, MaxPooling1D"
   ]
  },
  {
   "cell_type": "code",
   "execution_count": 101,
   "id": "absolute-capacity",
   "metadata": {},
   "outputs": [
    {
     "name": "stdout",
     "output_type": "stream",
     "text": [
      "Model: \"sequential_11\"\n",
      "_________________________________________________________________\n",
      "Layer (type)                 Output Shape              Param #   \n",
      "=================================================================\n",
      "conv1d_5 (Conv1D)            (None, 5, 16)             320016    \n",
      "_________________________________________________________________\n",
      "batch_normalization_5 (Batch (None, 5, 16)             64        \n",
      "_________________________________________________________________\n",
      "conv1d_6 (Conv1D)            (None, 5, 32)             2592      \n",
      "_________________________________________________________________\n",
      "max_pooling1d_3 (MaxPooling1 (None, 2, 32)             0         \n",
      "_________________________________________________________________\n",
      "conv1d_7 (Conv1D)            (None, 2, 64)             6208      \n",
      "_________________________________________________________________\n",
      "max_pooling1d_4 (MaxPooling1 (None, 1, 64)             0         \n",
      "_________________________________________________________________\n",
      "conv1d_8 (Conv1D)            (None, 1, 64)             12352     \n",
      "_________________________________________________________________\n",
      "flatten_7 (Flatten)          (None, 64)                0         \n",
      "_________________________________________________________________\n",
      "dense_15 (Dense)             (None, 64)                4160      \n",
      "_________________________________________________________________\n",
      "dropout_10 (Dropout)         (None, 64)                0         \n",
      "_________________________________________________________________\n",
      "dense_16 (Dense)             (None, 2)                 130       \n",
      "=================================================================\n",
      "Total params: 345,522\n",
      "Trainable params: 345,490\n",
      "Non-trainable params: 32\n",
      "_________________________________________________________________\n"
     ]
    }
   ],
   "source": [
    "model=Sequential()\n",
    "\n",
    "model.add(Conv1D(16, 5, strides=4, padding='same', input_shape=(20, 4000), activation='relu'))\n",
    "model.add(BatchNormalization())\n",
    "\n",
    "model.add(Conv1D(32, 5, padding='same', activation='relu'))\n",
    "model.add(MaxPooling1D(pool_size=2, strides=2))\n",
    "\n",
    "model.add(Conv1D(64, 3, padding='same', activation='relu'))\n",
    "model.add(MaxPooling1D(pool_size=2, strides=2))\n",
    "\n",
    "model.add(Conv1D(64, 3, padding='same', activation='relu'))\n",
    "\n",
    "model.add(Flatten())\n",
    "model.add(Dense(64, activation='relu'))\n",
    "model.add(Dropout(0.25))\n",
    "model.add(Dense(2, activation='softmax'))\n",
    "\n",
    "model.compile(loss='categorical_crossentropy', optimizer='adam', metrics=['accuracy'])\n",
    "model.summary()"
   ]
  },
  {
   "cell_type": "code",
   "execution_count": null,
   "id": "muslim-associate",
   "metadata": {},
   "outputs": [],
   "source": []
  }
 ],
 "metadata": {
  "kernelspec": {
   "display_name": "Python 3",
   "language": "python",
   "name": "python3"
  },
  "language_info": {
   "codemirror_mode": {
    "name": "ipython",
    "version": 3
   },
   "file_extension": ".py",
   "mimetype": "text/x-python",
   "name": "python",
   "nbconvert_exporter": "python",
   "pygments_lexer": "ipython3",
   "version": "3.7.10"
  }
 },
 "nbformat": 4,
 "nbformat_minor": 5
}
