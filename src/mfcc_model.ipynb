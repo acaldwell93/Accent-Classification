{
 "cells": [
  {
   "cell_type": "code",
   "execution_count": 1,
   "id": "ready-teach",
   "metadata": {},
   "outputs": [
    {
     "name": "stderr",
     "output_type": "stream",
     "text": [
      "/home/ubuntu/anaconda3/envs/tensorflow2_latest_p37/lib/python3.7/site-packages/tensorflow_io/core/python/ops/__init__.py:103: UserWarning: file system plugins are not loaded: unable to open file: libtensorflow_io.so, from paths: ['/home/ubuntu/anaconda3/envs/tensorflow2_latest_p37/lib/python3.7/site-packages/tensorflow_io/core/python/ops/libtensorflow_io.so']\n",
      "caused by: ['/home/ubuntu/anaconda3/envs/tensorflow2_latest_p37/lib/python3.7/site-packages/tensorflow_io/core/python/ops/libtensorflow_io.so: undefined symbol: _ZN10tensorflow2io20InputStreamInterface10SkipNBytesEl']\n",
      "  warnings.warn(\"file system plugins are not loaded: {}\".format(e))\n"
     ]
    }
   ],
   "source": [
    "import pandas as pd\n",
    "import numpy as np\n",
    "import os\n",
    "import matplotlib.pyplot as plt\n",
    "import math\n",
    "import tensorflow as tf\n",
    "import tensorflow_io as tfio\n",
    "from tensorflow import keras\n",
    "import IPython.display as ipd\n",
    "import librosa\n",
    "import sklearn.preprocessing\n",
    "from tensorflow.keras.models import Sequential\n",
    "from tensorflow.keras.layers import Dense, Dropout, Activation, Flatten, BatchNormalization, InputLayer, LSTM\n",
    "from tensorflow.keras.layers import Conv2D, MaxPooling2D, Conv1D, MaxPooling1D\n"
   ]
  },
  {
   "cell_type": "code",
   "execution_count": 578,
   "id": "unable-average",
   "metadata": {},
   "outputs": [],
   "source": [
    "def get_paths_and_labels(audio_directory_path):\n",
    "#     class_names = os.listdir(audio_directory_path)\n",
    "    class_names = ['english', 'spanish', 'mandarin']\n",
    "#     class_names.remove('.DS_Store')\n",
    "    label_class_dict = {num:class_ for num, class_ in enumerate(class_names)}\n",
    "    \n",
    "    audio_paths = []\n",
    "    labels = []\n",
    "\n",
    "    for label, name in enumerate(class_names):\n",
    "        dir_path = os.path.join(audio_directory_path, name)\n",
    "        full_paths = [os.path.join(dir_path, filename) for filename in os.listdir(dir_path) if 'ipynb' not in filename and '.DS_Store' not in filename]\n",
    "        audio_paths += full_paths\n",
    "        labels += [label] * len(full_paths)\n",
    "    \n",
    "    return audio_paths, labels, label_class_dict\n",
    "\n",
    "def path_to_mfcc(path):\n",
    "    audio, sr = librosa.load(path, sr=None)\n",
    "    mfcc = librosa.feature.mfcc(audio, sr, n_fft=1024,\n",
    "                                    n_mfcc=40, n_mels=40,\n",
    "                                    hop_length=256)\n",
    "#     mfcc = librosa.feature.delta(mfcc, order=2)\n",
    "    mfccs = mfcc.copy()\n",
    "    mfccs.T\n",
    "    mfccs.resize((6000, 40), refcheck=False)\n",
    "#     mfccs = sklearn.preprocessing.scale(mfccs)\n",
    "    return mfccs\n",
    "\n",
    "def create_dataset(audio_paths, labels):\n",
    "    X = np.zeros((len(audio_paths), 6000, 40))\n",
    "    for idx, file in enumerate(audio_paths):\n",
    "        X[idx] = path_to_mfcc(file)\n",
    "    y = np.array(labels)\n",
    "    return tf.data.Dataset.from_tensor_slices((X, y))"
   ]
  },
  {
   "cell_type": "code",
   "execution_count": 579,
   "id": "daily-green",
   "metadata": {},
   "outputs": [],
   "source": [
    "train_path = '../../data/cleaned_set_44/cleaned_set_train'\n",
    "test_path = '../../data/cleaned_set_44/cleaned_set_test'"
   ]
  },
  {
   "cell_type": "code",
   "execution_count": 580,
   "id": "thousand-envelope",
   "metadata": {
    "tags": []
   },
   "outputs": [],
   "source": [
    "batch_size = 16\n",
    "\n",
    "train_audio_paths, train_labels, train_label_class_dict = get_paths_and_labels(train_path)\n",
    "train_ds = create_dataset(train_audio_paths, train_labels)\n",
    "train_ds = train_ds.shuffle(buffer_size=len(train_ds)).batch(batch_size)\n",
    "train_ds = train_ds.prefetch(tf.data.experimental.AUTOTUNE)\n",
    "\n",
    "test_audio_paths, test_labels, test_label_class_dict = get_paths_and_labels(test_path)\n",
    "test_ds = create_dataset(test_audio_paths, test_labels)\n",
    "test_ds = test_ds.shuffle(buffer_size=len(test_ds)).batch(batch_size)\n",
    "test_ds = test_ds.prefetch(tf.data.experimental.AUTOTUNE)"
   ]
  },
  {
   "cell_type": "code",
   "execution_count": 178,
   "id": "lightweight-mountain",
   "metadata": {},
   "outputs": [
    {
     "data": {
      "text/plain": [
       "{0: 'english', 1: 'spanish', 2: 'mandarin'}"
      ]
     },
     "execution_count": 178,
     "metadata": {},
     "output_type": "execute_result"
    }
   ],
   "source": [
    "test_label_class_dict"
   ]
  },
  {
   "cell_type": "code",
   "execution_count": 254,
   "id": "purple-dialogue",
   "metadata": {},
   "outputs": [],
   "source": [
    "import os\n",
    "root_logdir = os.path.join(os.curdir, \"mfcc_3class_logs\")\n",
    "\n",
    "def get_run_logdir():\n",
    "    import time\n",
    "    run_id = time.strftime(\"run_%Y_%m_%d-%H_%M_%S\")\n",
    "    return os.path.join(root_logdir, run_id)"
   ]
  },
  {
   "cell_type": "code",
   "execution_count": 202,
   "id": "cutting-hanging",
   "metadata": {
    "collapsed": true,
    "jupyter": {
     "outputs_hidden": true,
     "source_hidden": true
    },
    "tags": []
   },
   "outputs": [
    {
     "name": "stdout",
     "output_type": "stream",
     "text": [
      "Model: \"sequential_86\"\n",
      "_________________________________________________________________\n",
      "Layer (type)                 Output Shape              Param #   \n",
      "=================================================================\n",
      "conv2d_65 (Conv2D)           (None, 32, 6400, 1)       1280      \n",
      "_________________________________________________________________\n",
      "max_pooling2d_26 (MaxPooling (None, 32, 2133, 1)       0         \n",
      "_________________________________________________________________\n",
      "dropout_330 (Dropout)        (None, 32, 2133, 1)       0         \n",
      "_________________________________________________________________\n",
      "conv2d_66 (Conv2D)           (None, 64, 2133, 1)       4160      \n",
      "_________________________________________________________________\n",
      "max_pooling2d_27 (MaxPooling (None, 64, 711, 1)        0         \n",
      "_________________________________________________________________\n",
      "dropout_331 (Dropout)        (None, 64, 711, 1)        0         \n",
      "_________________________________________________________________\n",
      "flatten_81 (Flatten)         (None, 45504)             0         \n",
      "_________________________________________________________________\n",
      "dense_183 (Dense)            (None, 128)               5824640   \n",
      "_________________________________________________________________\n",
      "dropout_332 (Dropout)        (None, 128)               0         \n",
      "_________________________________________________________________\n",
      "dense_184 (Dense)            (None, 64)                8256      \n",
      "_________________________________________________________________\n",
      "dropout_333 (Dropout)        (None, 64)                0         \n",
      "_________________________________________________________________\n",
      "dense_185 (Dense)            (None, 3)                 195       \n",
      "=================================================================\n",
      "Total params: 5,838,531\n",
      "Trainable params: 5,838,531\n",
      "Non-trainable params: 0\n",
      "_________________________________________________________________\n"
     ]
    }
   ],
   "source": [
    "model=Sequential()\n",
    "\n",
    "model.add(Conv2D(32, (3,1), padding='same', input_shape=(13, 6400, 1), activation='relu'))\n",
    "model.add(MaxPooling2D(pool_size=(3,1)))\n",
    "model.add(Dropout(0.25))\n",
    "\n",
    "model.add(Conv2D(64, (2,1), padding='same', activation='relu'))\n",
    "model.add(MaxPooling2D(pool_size=(3,1)))\n",
    "model.add(Dropout(0.25))\n",
    "\n",
    "model.add(Flatten())\n",
    "model.add(Dense(128, activation='relu'))\n",
    "model.add(Dropout(0.25))\n",
    "model.add(Dense(64, activation='relu'))\n",
    "model.add(Dropout(0.25))\n",
    "model.add(Dense(3, activation='softmax'))\n",
    "\n",
    "opt = keras.optimizers.Adam(learning_rate=.0001)\n",
    "model.compile(loss='sparse_categorical_crossentropy', optimizer=opt, metrics=['accuracy'])\n",
    "model.summary()"
   ]
  },
  {
   "cell_type": "code",
   "execution_count": 203,
   "id": "equal-scratch",
   "metadata": {
    "collapsed": true,
    "jupyter": {
     "outputs_hidden": true,
     "source_hidden": true
    },
    "tags": []
   },
   "outputs": [
    {
     "name": "stdout",
     "output_type": "stream",
     "text": [
      "Epoch 1/100\n",
      "19/19 [==============================] - 1s 44ms/step - loss: 1.3718 - accuracy: 0.3514 - val_loss: 0.8727 - val_accuracy: 0.5333\n",
      "INFO:tensorflow:Assets written to: mfcc_3class_2dcnn_model/assets\n",
      "Epoch 2/100\n",
      "19/19 [==============================] - 0s 12ms/step - loss: 0.8693 - accuracy: 0.6057 - val_loss: 0.8358 - val_accuracy: 0.5333\n",
      "Epoch 3/100\n",
      "19/19 [==============================] - 0s 11ms/step - loss: 0.8917 - accuracy: 0.5803 - val_loss: 0.8280 - val_accuracy: 0.5833\n",
      "INFO:tensorflow:Assets written to: mfcc_3class_2dcnn_model/assets\n",
      "Epoch 4/100\n",
      "19/19 [==============================] - 0s 12ms/step - loss: 0.8920 - accuracy: 0.5119 - val_loss: 0.8226 - val_accuracy: 0.5667\n",
      "Epoch 5/100\n",
      "19/19 [==============================] - 0s 11ms/step - loss: 0.8574 - accuracy: 0.5799 - val_loss: 0.8475 - val_accuracy: 0.5500\n",
      "Epoch 6/100\n",
      "19/19 [==============================] - 0s 11ms/step - loss: 0.8786 - accuracy: 0.5699 - val_loss: 0.8089 - val_accuracy: 0.5333\n",
      "Epoch 7/100\n",
      "19/19 [==============================] - 0s 11ms/step - loss: 0.8789 - accuracy: 0.5606 - val_loss: 0.8176 - val_accuracy: 0.5333\n",
      "Epoch 8/100\n",
      "19/19 [==============================] - 0s 11ms/step - loss: 0.8064 - accuracy: 0.6149 - val_loss: 0.8105 - val_accuracy: 0.6500\n",
      "INFO:tensorflow:Assets written to: mfcc_3class_2dcnn_model/assets\n",
      "Epoch 9/100\n",
      "19/19 [==============================] - 0s 11ms/step - loss: 0.8889 - accuracy: 0.5247 - val_loss: 0.8210 - val_accuracy: 0.6833\n",
      "INFO:tensorflow:Assets written to: mfcc_3class_2dcnn_model/assets\n",
      "Epoch 10/100\n",
      "19/19 [==============================] - 0s 11ms/step - loss: 0.8000 - accuracy: 0.6160 - val_loss: 0.8253 - val_accuracy: 0.6000\n",
      "Epoch 11/100\n",
      "19/19 [==============================] - 0s 11ms/step - loss: 0.7843 - accuracy: 0.6185 - val_loss: 0.8113 - val_accuracy: 0.5667\n",
      "Epoch 12/100\n",
      "19/19 [==============================] - 0s 11ms/step - loss: 0.7589 - accuracy: 0.6408 - val_loss: 0.7995 - val_accuracy: 0.6333\n",
      "Epoch 13/100\n",
      "19/19 [==============================] - 0s 11ms/step - loss: 0.7729 - accuracy: 0.6332 - val_loss: 0.8677 - val_accuracy: 0.5667\n",
      "Epoch 14/100\n",
      "19/19 [==============================] - 0s 11ms/step - loss: 0.7327 - accuracy: 0.6801 - val_loss: 0.8716 - val_accuracy: 0.6333\n",
      "Epoch 15/100\n",
      "19/19 [==============================] - 0s 11ms/step - loss: 0.7482 - accuracy: 0.6582 - val_loss: 0.8672 - val_accuracy: 0.5833\n",
      "Epoch 16/100\n",
      "19/19 [==============================] - 0s 11ms/step - loss: 0.8442 - accuracy: 0.5457 - val_loss: 0.8525 - val_accuracy: 0.6167\n",
      "Epoch 17/100\n",
      "19/19 [==============================] - 0s 11ms/step - loss: 0.8015 - accuracy: 0.6171 - val_loss: 0.8332 - val_accuracy: 0.6167\n",
      "Epoch 18/100\n",
      "19/19 [==============================] - 0s 11ms/step - loss: 0.7239 - accuracy: 0.6287 - val_loss: 0.8212 - val_accuracy: 0.6000\n",
      "Epoch 19/100\n",
      "19/19 [==============================] - 0s 11ms/step - loss: 0.8150 - accuracy: 0.6099 - val_loss: 0.8680 - val_accuracy: 0.5833\n",
      "Epoch 20/100\n",
      "19/19 [==============================] - 0s 11ms/step - loss: 0.7056 - accuracy: 0.6797 - val_loss: 0.8407 - val_accuracy: 0.6000\n",
      "Epoch 21/100\n",
      "19/19 [==============================] - 0s 11ms/step - loss: 0.6646 - accuracy: 0.6833 - val_loss: 0.8141 - val_accuracy: 0.6333\n",
      "Epoch 22/100\n",
      "19/19 [==============================] - 0s 11ms/step - loss: 0.7240 - accuracy: 0.6316 - val_loss: 0.8290 - val_accuracy: 0.5833\n",
      "Epoch 23/100\n",
      "19/19 [==============================] - 0s 11ms/step - loss: 0.7110 - accuracy: 0.6672 - val_loss: 0.8525 - val_accuracy: 0.6333\n",
      "Epoch 24/100\n",
      "19/19 [==============================] - 0s 11ms/step - loss: 0.7118 - accuracy: 0.6261 - val_loss: 0.8572 - val_accuracy: 0.6333\n",
      "Epoch 25/100\n",
      "19/19 [==============================] - 0s 11ms/step - loss: 0.7267 - accuracy: 0.6264 - val_loss: 0.8859 - val_accuracy: 0.5667\n",
      "Epoch 26/100\n",
      "19/19 [==============================] - 0s 11ms/step - loss: 0.7359 - accuracy: 0.6680 - val_loss: 0.8345 - val_accuracy: 0.6500\n",
      "Epoch 27/100\n",
      "19/19 [==============================] - 0s 11ms/step - loss: 0.6861 - accuracy: 0.6654 - val_loss: 0.8596 - val_accuracy: 0.5667\n",
      "Epoch 28/100\n",
      "19/19 [==============================] - 0s 11ms/step - loss: 0.6318 - accuracy: 0.6834 - val_loss: 0.8480 - val_accuracy: 0.6167\n",
      "Epoch 29/100\n",
      "19/19 [==============================] - 0s 11ms/step - loss: 0.7141 - accuracy: 0.6017 - val_loss: 0.8348 - val_accuracy: 0.6667\n",
      "Epoch 30/100\n",
      "19/19 [==============================] - 0s 11ms/step - loss: 0.6145 - accuracy: 0.7060 - val_loss: 0.8424 - val_accuracy: 0.6500\n",
      "Epoch 31/100\n",
      "19/19 [==============================] - 0s 11ms/step - loss: 0.6332 - accuracy: 0.7054 - val_loss: 0.8871 - val_accuracy: 0.5833\n",
      "Epoch 32/100\n",
      "19/19 [==============================] - 0s 11ms/step - loss: 0.6215 - accuracy: 0.6613 - val_loss: 0.8869 - val_accuracy: 0.5833\n",
      "Epoch 33/100\n",
      "19/19 [==============================] - 0s 11ms/step - loss: 0.5832 - accuracy: 0.7356 - val_loss: 0.9148 - val_accuracy: 0.5500\n",
      "Epoch 34/100\n",
      "19/19 [==============================] - 0s 11ms/step - loss: 0.5947 - accuracy: 0.6512 - val_loss: 0.9034 - val_accuracy: 0.5833\n",
      "Epoch 35/100\n",
      "19/19 [==============================] - 0s 11ms/step - loss: 0.6161 - accuracy: 0.7331 - val_loss: 0.8968 - val_accuracy: 0.5667\n",
      "Epoch 36/100\n",
      "19/19 [==============================] - 0s 11ms/step - loss: 0.5766 - accuracy: 0.7446 - val_loss: 0.9215 - val_accuracy: 0.5667\n",
      "Epoch 37/100\n",
      "19/19 [==============================] - 0s 11ms/step - loss: 0.5663 - accuracy: 0.7628 - val_loss: 0.9213 - val_accuracy: 0.5833\n",
      "Epoch 38/100\n",
      "19/19 [==============================] - 0s 11ms/step - loss: 0.5333 - accuracy: 0.7623 - val_loss: 0.9386 - val_accuracy: 0.5667\n",
      "Epoch 39/100\n",
      "19/19 [==============================] - 0s 11ms/step - loss: 0.5191 - accuracy: 0.7909 - val_loss: 0.9919 - val_accuracy: 0.5833\n",
      "Epoch 40/100\n",
      "19/19 [==============================] - 0s 11ms/step - loss: 0.6241 - accuracy: 0.7264 - val_loss: 0.9504 - val_accuracy: 0.5500\n",
      "Epoch 41/100\n",
      "19/19 [==============================] - 0s 11ms/step - loss: 0.4755 - accuracy: 0.7761 - val_loss: 0.9305 - val_accuracy: 0.6333\n",
      "Epoch 42/100\n",
      "19/19 [==============================] - 0s 11ms/step - loss: 0.4811 - accuracy: 0.8264 - val_loss: 0.9392 - val_accuracy: 0.6167\n",
      "Epoch 43/100\n",
      "19/19 [==============================] - 0s 11ms/step - loss: 0.5021 - accuracy: 0.7860 - val_loss: 0.9206 - val_accuracy: 0.6500\n",
      "Epoch 44/100\n",
      "19/19 [==============================] - 0s 11ms/step - loss: 0.5581 - accuracy: 0.7578 - val_loss: 0.8992 - val_accuracy: 0.6667\n",
      "Epoch 45/100\n",
      "19/19 [==============================] - 0s 11ms/step - loss: 0.3936 - accuracy: 0.8752 - val_loss: 0.9380 - val_accuracy: 0.6333\n",
      "Epoch 46/100\n",
      "19/19 [==============================] - 0s 11ms/step - loss: 0.4305 - accuracy: 0.8384 - val_loss: 0.9190 - val_accuracy: 0.6667\n",
      "Epoch 47/100\n",
      "19/19 [==============================] - 0s 11ms/step - loss: 0.3750 - accuracy: 0.8533 - val_loss: 0.9754 - val_accuracy: 0.5833\n",
      "Epoch 48/100\n",
      "19/19 [==============================] - 0s 11ms/step - loss: 0.4010 - accuracy: 0.8483 - val_loss: 0.9878 - val_accuracy: 0.6167\n",
      "Epoch 49/100\n",
      "19/19 [==============================] - 0s 11ms/step - loss: 0.3997 - accuracy: 0.8526 - val_loss: 0.9680 - val_accuracy: 0.6167\n",
      "Epoch 50/100\n",
      "19/19 [==============================] - 0s 11ms/step - loss: 0.3579 - accuracy: 0.8627 - val_loss: 1.0319 - val_accuracy: 0.6333\n",
      "Epoch 51/100\n",
      "19/19 [==============================] - 0s 11ms/step - loss: 0.3358 - accuracy: 0.8907 - val_loss: 1.0055 - val_accuracy: 0.6000\n",
      "Epoch 52/100\n",
      "19/19 [==============================] - 0s 11ms/step - loss: 0.3206 - accuracy: 0.8781 - val_loss: 1.0334 - val_accuracy: 0.6667\n",
      "Epoch 53/100\n",
      "19/19 [==============================] - 0s 11ms/step - loss: 0.2685 - accuracy: 0.9157 - val_loss: 1.0749 - val_accuracy: 0.5667\n",
      "Epoch 54/100\n",
      "19/19 [==============================] - 0s 11ms/step - loss: 0.3376 - accuracy: 0.8700 - val_loss: 1.0152 - val_accuracy: 0.6333\n",
      "Epoch 55/100\n",
      "19/19 [==============================] - 0s 11ms/step - loss: 0.3051 - accuracy: 0.9113 - val_loss: 0.9921 - val_accuracy: 0.6667\n",
      "Epoch 56/100\n",
      "19/19 [==============================] - 0s 11ms/step - loss: 0.2835 - accuracy: 0.9015 - val_loss: 1.0557 - val_accuracy: 0.6500\n",
      "Epoch 57/100\n",
      "19/19 [==============================] - 0s 11ms/step - loss: 0.2584 - accuracy: 0.9295 - val_loss: 1.0304 - val_accuracy: 0.6667\n",
      "Epoch 58/100\n",
      "19/19 [==============================] - 0s 11ms/step - loss: 0.2538 - accuracy: 0.9226 - val_loss: 1.0710 - val_accuracy: 0.6167\n",
      "Epoch 59/100\n",
      "19/19 [==============================] - 0s 11ms/step - loss: 0.2123 - accuracy: 0.9547 - val_loss: 1.1404 - val_accuracy: 0.5500\n",
      "Epoch 60/100\n",
      "19/19 [==============================] - 0s 11ms/step - loss: 0.2462 - accuracy: 0.9006 - val_loss: 1.1220 - val_accuracy: 0.6333\n",
      "Epoch 61/100\n",
      "19/19 [==============================] - 0s 11ms/step - loss: 0.2153 - accuracy: 0.9623 - val_loss: 1.1225 - val_accuracy: 0.6500\n",
      "Epoch 62/100\n",
      "19/19 [==============================] - 0s 11ms/step - loss: 0.2058 - accuracy: 0.9425 - val_loss: 1.0766 - val_accuracy: 0.6667\n"
     ]
    }
   ],
   "source": [
    "model_save_filename = 'mfcc_3class_2dcnn_model'\n",
    "\n",
    "earlystopping_cb = keras.callbacks.EarlyStopping(patience=50, restore_best_weights=True)\n",
    "modelcheckpoint_cb = keras.callbacks.ModelCheckpoint(\n",
    "    model_save_filename, monitor='val_accuracy', save_best_only=True)\n",
    "tensorboard_cb = keras.callbacks.TensorBoard(get_run_logdir())\n",
    "\n",
    "history = model.fit(train_ds, \n",
    "                    epochs=100, \n",
    "                    validation_data=test_ds,\n",
    "                    callbacks=[earlystopping_cb, modelcheckpoint_cb, tensorboard_cb])"
   ]
  },
  {
   "cell_type": "code",
   "execution_count": 581,
   "id": "metric-audit",
   "metadata": {
    "tags": []
   },
   "outputs": [
    {
     "name": "stdout",
     "output_type": "stream",
     "text": [
      "Model: \"sequential_197\"\n",
      "_________________________________________________________________\n",
      "Layer (type)                 Output Shape              Param #   \n",
      "=================================================================\n",
      "conv1d_942 (Conv1D)          (None, 3000, 16)          1936      \n",
      "_________________________________________________________________\n",
      "conv1d_943 (Conv1D)          (None, 1500, 16)          784       \n",
      "_________________________________________________________________\n",
      "dropout_875 (Dropout)        (None, 1500, 16)          0         \n",
      "_________________________________________________________________\n",
      "batch_normalization_129 (Bat (None, 1500, 16)          64        \n",
      "_________________________________________________________________\n",
      "max_pooling1d_633 (MaxPoolin (None, 749, 16)           0         \n",
      "_________________________________________________________________\n",
      "conv1d_944 (Conv1D)          (None, 749, 32)           1568      \n",
      "_________________________________________________________________\n",
      "conv1d_945 (Conv1D)          (None, 749, 32)           3104      \n",
      "_________________________________________________________________\n",
      "dropout_876 (Dropout)        (None, 749, 32)           0         \n",
      "_________________________________________________________________\n",
      "batch_normalization_130 (Bat (None, 749, 32)           128       \n",
      "_________________________________________________________________\n",
      "max_pooling1d_634 (MaxPoolin (None, 374, 32)           0         \n",
      "_________________________________________________________________\n",
      "conv1d_946 (Conv1D)          (None, 374, 128)          12416     \n",
      "_________________________________________________________________\n",
      "conv1d_947 (Conv1D)          (None, 374, 128)          49280     \n",
      "_________________________________________________________________\n",
      "dropout_877 (Dropout)        (None, 374, 128)          0         \n",
      "_________________________________________________________________\n",
      "batch_normalization_131 (Bat (None, 374, 128)          512       \n",
      "_________________________________________________________________\n",
      "max_pooling1d_635 (MaxPoolin (None, 186, 128)          0         \n",
      "_________________________________________________________________\n",
      "flatten_180 (Flatten)        (None, 23808)             0         \n",
      "_________________________________________________________________\n",
      "dense_496 (Dense)            (None, 128)               3047552   \n",
      "_________________________________________________________________\n",
      "dropout_878 (Dropout)        (None, 128)               0         \n",
      "_________________________________________________________________\n",
      "dense_497 (Dense)            (None, 64)                8256      \n",
      "_________________________________________________________________\n",
      "dropout_879 (Dropout)        (None, 64)                0         \n",
      "_________________________________________________________________\n",
      "dense_498 (Dense)            (None, 3)                 195       \n",
      "=================================================================\n",
      "Total params: 3,125,795\n",
      "Trainable params: 3,125,443\n",
      "Non-trainable params: 352\n",
      "_________________________________________________________________\n"
     ]
    }
   ],
   "source": [
    "# model = keras.models.Sequential()\n",
    "# model.add(keras.layers.InputLayer(input_shape=[6000,13]))\n",
    "# model.add(BatchNormalization())\n",
    "\n",
    "# model.add(keras.layers.Conv1D(filters=60, kernel_size=3, padding='causal', activation='relu'))\n",
    "# model.add(Dropout(0.4))\n",
    "# model.add(MaxPooling1D(pool_size=3, strides=2))\n",
    "# model.add(keras.layers.Conv1D(filters=60, kernel_size=3, padding='causal', activation='relu'))\n",
    "# model.add(Dropout(0.4))\n",
    "# model.add(MaxPooling1D(pool_size=3, strides=2))\n",
    "# model.add(keras.layers.Conv1D(filters=60, kernel_size=3, padding='causal', activation='relu'))\n",
    "# model.add(Dropout(0.4))\n",
    "# model.add(MaxPooling1D(pool_size=3, strides=2))\n",
    "# model.add(keras.layers.Conv1D(filters=60, kernel_size=3, padding='causal', activation='relu'))\n",
    "# model.add(Dropout(0.4))\n",
    "# model.add(MaxPooling1D(pool_size=3, strides=2))\n",
    "# model.add(keras.layers.Conv1D(filters=20, kernel_size=2, padding='causal', activation='relu'))\n",
    "# model.add(Dropout(0.4))\n",
    "# model.add(MaxPooling1D(pool_size=2, strides=1))\n",
    "# model.add(keras.layers.Conv1D(filters=20, kernel_size=2, padding='causal', activation='relu'))\n",
    "# model.add(Dropout(0.4))\n",
    "# model.add(MaxPooling1D(pool_size=2, strides=1))\n",
    "# model.add(keras.layers.Conv1D(filters=20, kernel_size=2, padding='causal', activation='relu'))\n",
    "# model.add(Dropout(0.4))\n",
    "# model.add(MaxPooling1D(pool_size=2, strides=1))\n",
    "# model.add(keras.layers.Conv1D(filters=20, kernel_size=2, padding='causal', activation='relu'))\n",
    "# model.add(Dropout(0.4))\n",
    "# model.add(MaxPooling1D(pool_size=2, strides=1))\n",
    "\n",
    "# model.add(Flatten())\n",
    "# model.add(Dense(128, activation='relu'))\n",
    "# model.add(Dropout(.2))\n",
    "# model.add(Dense(64, activation='relu'))\n",
    "# model.add(Dropout(.2))\n",
    "# model.add(Dense(32, activation='relu'))\n",
    "# model.add(Dense(3, activation='softmax'))\n",
    "\n",
    "\n",
    "# opt = keras.optimizers.Adam(learning_rate=.00001)\n",
    "# model.compile(loss='sparse_categorical_crossentropy', optimizer=opt, metrics=['accuracy'])\n",
    "# model.summary()\n",
    "\n",
    "\n",
    "model=tf.keras.models.Sequential()\n",
    "\n",
    "model.add(Conv1D(16, 3, strides=2, padding='same', input_shape=(6000, 40), activation='relu'))\n",
    "model.add(Conv1D(16, 3, strides=2, padding='same', activation='relu'))\n",
    "model.add(Dropout(.2))\n",
    "model.add(BatchNormalization())\n",
    "model.add(MaxPooling1D(pool_size=3, strides=2))\n",
    "\n",
    "model.add(Conv1D(32, 3, padding='same', activation='relu'))\n",
    "model.add(Conv1D(32, 3, padding='same', activation='relu'))\n",
    "model.add(Dropout(.2))\n",
    "model.add(BatchNormalization())\n",
    "model.add(MaxPooling1D(pool_size=3, strides=2))\n",
    "\n",
    "model.add(Conv1D(128, 3, padding='same', activation='relu'))\n",
    "model.add(Conv1D(128, 3, padding='same', activation='relu'))\n",
    "model.add(Dropout(.2))\n",
    "model.add(BatchNormalization())\n",
    "model.add(MaxPooling1D(pool_size=3, strides=2))\n",
    "\n",
    "\n",
    "model.add(Flatten())\n",
    "model.add(Dense(128, activation='relu'))\n",
    "model.add(Dropout(0.4))\n",
    "model.add(Dense(64, activation='relu'))\n",
    "model.add(Dropout(0.4))\n",
    "model.add(Dense(3, activation='softmax'))\n",
    "\n",
    "opt = keras.optimizers.Adam(learning_rate=.0001)\n",
    "\n",
    "model.compile(loss='sparse_categorical_crossentropy', optimizer=opt, metrics=['accuracy'])\n",
    "model.summary()\n",
    "\n"
   ]
  },
  {
   "cell_type": "code",
   "execution_count": 582,
   "id": "corresponding-indiana",
   "metadata": {
    "tags": []
   },
   "outputs": [
    {
     "name": "stdout",
     "output_type": "stream",
     "text": [
      "Epoch 1/1000\n",
      "19/19 [==============================] - 2s 45ms/step - loss: 2.1880 - accuracy: 0.3927 - val_loss: 0.9870 - val_accuracy: 0.4833\n",
      "INFO:tensorflow:Assets written to: mfcc_3class_model/assets\n",
      "Epoch 2/1000\n",
      "19/19 [==============================] - 1s 24ms/step - loss: 1.2660 - accuracy: 0.5217 - val_loss: 0.9492 - val_accuracy: 0.5500\n",
      "INFO:tensorflow:Assets written to: mfcc_3class_model/assets\n",
      "Epoch 3/1000\n",
      "19/19 [==============================] - 1s 23ms/step - loss: 1.0590 - accuracy: 0.5055 - val_loss: 1.0035 - val_accuracy: 0.5500\n",
      "Epoch 4/1000\n",
      "19/19 [==============================] - 1s 21ms/step - loss: 1.0106 - accuracy: 0.5485 - val_loss: 1.0568 - val_accuracy: 0.4667\n",
      "Epoch 5/1000\n",
      "19/19 [==============================] - 0s 20ms/step - loss: 1.0367 - accuracy: 0.4891 - val_loss: 0.9960 - val_accuracy: 0.5333\n",
      "Epoch 6/1000\n",
      "19/19 [==============================] - 1s 21ms/step - loss: 0.9474 - accuracy: 0.5561 - val_loss: 0.9862 - val_accuracy: 0.5000\n",
      "Epoch 7/1000\n",
      "19/19 [==============================] - 0s 20ms/step - loss: 0.8037 - accuracy: 0.6169 - val_loss: 0.9916 - val_accuracy: 0.4333\n",
      "Epoch 8/1000\n",
      "19/19 [==============================] - 1s 21ms/step - loss: 0.8862 - accuracy: 0.6227 - val_loss: 0.9766 - val_accuracy: 0.4667\n",
      "Epoch 9/1000\n",
      "19/19 [==============================] - 0s 20ms/step - loss: 0.8879 - accuracy: 0.6020 - val_loss: 0.9849 - val_accuracy: 0.4333\n",
      "Epoch 10/1000\n",
      "19/19 [==============================] - 0s 20ms/step - loss: 0.8904 - accuracy: 0.6196 - val_loss: 0.9908 - val_accuracy: 0.4000\n",
      "Epoch 11/1000\n",
      "19/19 [==============================] - 0s 20ms/step - loss: 0.8382 - accuracy: 0.6285 - val_loss: 0.9768 - val_accuracy: 0.4000\n",
      "Epoch 12/1000\n",
      "19/19 [==============================] - 0s 20ms/step - loss: 0.8717 - accuracy: 0.5910 - val_loss: 1.0125 - val_accuracy: 0.3833\n",
      "Epoch 13/1000\n",
      "19/19 [==============================] - 0s 20ms/step - loss: 0.8373 - accuracy: 0.6118 - val_loss: 0.9810 - val_accuracy: 0.3833\n",
      "Epoch 14/1000\n",
      "19/19 [==============================] - 0s 20ms/step - loss: 0.7314 - accuracy: 0.6957 - val_loss: 1.0306 - val_accuracy: 0.4167\n",
      "Epoch 15/1000\n",
      "19/19 [==============================] - 0s 20ms/step - loss: 0.8198 - accuracy: 0.6264 - val_loss: 1.0778 - val_accuracy: 0.3833\n",
      "Epoch 16/1000\n",
      "19/19 [==============================] - 0s 20ms/step - loss: 0.7067 - accuracy: 0.6567 - val_loss: 0.9798 - val_accuracy: 0.3833\n",
      "Epoch 17/1000\n",
      "19/19 [==============================] - 0s 20ms/step - loss: 0.6842 - accuracy: 0.6951 - val_loss: 0.9890 - val_accuracy: 0.4000\n",
      "Epoch 18/1000\n",
      "19/19 [==============================] - 0s 20ms/step - loss: 0.8150 - accuracy: 0.6387 - val_loss: 0.9535 - val_accuracy: 0.4167\n",
      "Epoch 19/1000\n",
      "19/19 [==============================] - 0s 20ms/step - loss: 0.7209 - accuracy: 0.7165 - val_loss: 0.8949 - val_accuracy: 0.5167\n",
      "Epoch 20/1000\n",
      "19/19 [==============================] - 0s 20ms/step - loss: 0.6259 - accuracy: 0.7316 - val_loss: 0.8966 - val_accuracy: 0.5000\n",
      "Epoch 21/1000\n",
      "19/19 [==============================] - 0s 20ms/step - loss: 0.6404 - accuracy: 0.7116 - val_loss: 0.8807 - val_accuracy: 0.5667\n",
      "INFO:tensorflow:Assets written to: mfcc_3class_model/assets\n",
      "Epoch 22/1000\n",
      "19/19 [==============================] - 1s 23ms/step - loss: 0.6681 - accuracy: 0.6857 - val_loss: 0.9245 - val_accuracy: 0.5333\n",
      "Epoch 23/1000\n",
      "19/19 [==============================] - 0s 20ms/step - loss: 0.5663 - accuracy: 0.7719 - val_loss: 0.8601 - val_accuracy: 0.6500\n",
      "INFO:tensorflow:Assets written to: mfcc_3class_model/assets\n",
      "Epoch 24/1000\n",
      "19/19 [==============================] - 1s 23ms/step - loss: 0.6436 - accuracy: 0.7099 - val_loss: 0.8578 - val_accuracy: 0.6167\n",
      "Epoch 25/1000\n",
      "19/19 [==============================] - 0s 20ms/step - loss: 0.5136 - accuracy: 0.7766 - val_loss: 0.8827 - val_accuracy: 0.6000\n",
      "Epoch 26/1000\n",
      "19/19 [==============================] - 0s 21ms/step - loss: 0.5394 - accuracy: 0.7911 - val_loss: 0.8066 - val_accuracy: 0.6500\n",
      "Epoch 27/1000\n",
      "19/19 [==============================] - 0s 20ms/step - loss: 0.5233 - accuracy: 0.7601 - val_loss: 0.9226 - val_accuracy: 0.5667\n",
      "Epoch 28/1000\n",
      "19/19 [==============================] - 0s 20ms/step - loss: 0.5071 - accuracy: 0.7853 - val_loss: 0.8111 - val_accuracy: 0.6167\n",
      "Epoch 29/1000\n",
      "19/19 [==============================] - 0s 20ms/step - loss: 0.4679 - accuracy: 0.7940 - val_loss: 0.8021 - val_accuracy: 0.6500\n",
      "Epoch 30/1000\n",
      "19/19 [==============================] - 0s 20ms/step - loss: 0.4898 - accuracy: 0.7712 - val_loss: 0.9260 - val_accuracy: 0.6333\n",
      "Epoch 31/1000\n",
      "19/19 [==============================] - 0s 19ms/step - loss: 0.3797 - accuracy: 0.8643 - val_loss: 0.8226 - val_accuracy: 0.7000\n",
      "INFO:tensorflow:Assets written to: mfcc_3class_model/assets\n",
      "Epoch 32/1000\n",
      "19/19 [==============================] - 1s 23ms/step - loss: 0.4463 - accuracy: 0.8285 - val_loss: 0.7943 - val_accuracy: 0.6833\n",
      "Epoch 33/1000\n",
      "19/19 [==============================] - 0s 21ms/step - loss: 0.4679 - accuracy: 0.7739 - val_loss: 0.8456 - val_accuracy: 0.6833\n",
      "Epoch 34/1000\n",
      "19/19 [==============================] - 0s 20ms/step - loss: 0.3786 - accuracy: 0.8574 - val_loss: 0.8077 - val_accuracy: 0.7000\n",
      "Epoch 35/1000\n",
      "19/19 [==============================] - 1s 20ms/step - loss: 0.3877 - accuracy: 0.8380 - val_loss: 0.8368 - val_accuracy: 0.6333\n",
      "Epoch 36/1000\n",
      "19/19 [==============================] - 1s 21ms/step - loss: 0.3882 - accuracy: 0.8342 - val_loss: 0.9057 - val_accuracy: 0.6333\n",
      "Epoch 37/1000\n",
      "19/19 [==============================] - 0s 21ms/step - loss: 0.4161 - accuracy: 0.8179 - val_loss: 0.9061 - val_accuracy: 0.6667\n",
      "Epoch 38/1000\n",
      "19/19 [==============================] - 0s 20ms/step - loss: 0.4411 - accuracy: 0.8459 - val_loss: 0.8732 - val_accuracy: 0.6333\n",
      "Epoch 39/1000\n",
      "19/19 [==============================] - 0s 20ms/step - loss: 0.3322 - accuracy: 0.8566 - val_loss: 0.8855 - val_accuracy: 0.6833\n",
      "Epoch 40/1000\n",
      "19/19 [==============================] - 0s 20ms/step - loss: 0.2531 - accuracy: 0.9248 - val_loss: 0.9228 - val_accuracy: 0.6500\n",
      "Epoch 41/1000\n",
      "19/19 [==============================] - 1s 21ms/step - loss: 0.3462 - accuracy: 0.8484 - val_loss: 0.8849 - val_accuracy: 0.6333\n",
      "Epoch 42/1000\n",
      "19/19 [==============================] - 0s 20ms/step - loss: 0.2743 - accuracy: 0.9048 - val_loss: 0.9021 - val_accuracy: 0.7000\n",
      "Epoch 43/1000\n",
      "19/19 [==============================] - 0s 20ms/step - loss: 0.3599 - accuracy: 0.8504 - val_loss: 0.8379 - val_accuracy: 0.7167\n",
      "INFO:tensorflow:Assets written to: mfcc_3class_model/assets\n",
      "Epoch 44/1000\n",
      "19/19 [==============================] - 1s 23ms/step - loss: 0.3163 - accuracy: 0.8728 - val_loss: 0.8725 - val_accuracy: 0.7500\n",
      "INFO:tensorflow:Assets written to: mfcc_3class_model/assets\n",
      "Epoch 45/1000\n",
      "19/19 [==============================] - 1s 23ms/step - loss: 0.2796 - accuracy: 0.8731 - val_loss: 0.8709 - val_accuracy: 0.7000\n",
      "Epoch 46/1000\n",
      "19/19 [==============================] - 1s 21ms/step - loss: 0.3926 - accuracy: 0.8640 - val_loss: 0.9628 - val_accuracy: 0.6333\n",
      "Epoch 47/1000\n",
      "19/19 [==============================] - 0s 20ms/step - loss: 0.2413 - accuracy: 0.9177 - val_loss: 0.9282 - val_accuracy: 0.6667\n",
      "Epoch 48/1000\n",
      "19/19 [==============================] - 0s 20ms/step - loss: 0.2836 - accuracy: 0.8920 - val_loss: 0.8988 - val_accuracy: 0.6667\n",
      "Epoch 49/1000\n",
      "19/19 [==============================] - 0s 20ms/step - loss: 0.2480 - accuracy: 0.8949 - val_loss: 0.9563 - val_accuracy: 0.6333\n",
      "Epoch 50/1000\n",
      "19/19 [==============================] - 0s 20ms/step - loss: 0.2418 - accuracy: 0.9211 - val_loss: 1.0444 - val_accuracy: 0.6000\n",
      "Epoch 51/1000\n",
      "19/19 [==============================] - 0s 20ms/step - loss: 0.2491 - accuracy: 0.9370 - val_loss: 1.0067 - val_accuracy: 0.6167\n",
      "Epoch 52/1000\n",
      "19/19 [==============================] - 1s 21ms/step - loss: 0.1694 - accuracy: 0.9438 - val_loss: 1.0601 - val_accuracy: 0.6500\n",
      "Epoch 53/1000\n",
      "19/19 [==============================] - 1s 21ms/step - loss: 0.2129 - accuracy: 0.9201 - val_loss: 1.0400 - val_accuracy: 0.6500\n",
      "Epoch 54/1000\n",
      "19/19 [==============================] - 0s 20ms/step - loss: 0.2278 - accuracy: 0.9051 - val_loss: 0.9992 - val_accuracy: 0.6667\n",
      "Epoch 55/1000\n",
      "19/19 [==============================] - 0s 21ms/step - loss: 0.1375 - accuracy: 0.9539 - val_loss: 0.9893 - val_accuracy: 0.6833\n",
      "Epoch 56/1000\n",
      "19/19 [==============================] - 0s 20ms/step - loss: 0.1515 - accuracy: 0.9564 - val_loss: 1.1511 - val_accuracy: 0.6500\n",
      "Epoch 57/1000\n",
      "19/19 [==============================] - 0s 20ms/step - loss: 0.2238 - accuracy: 0.9204 - val_loss: 1.0654 - val_accuracy: 0.6833\n"
     ]
    }
   ],
   "source": [
    "model_save_filename = 'mfcc_3class_model'\n",
    "\n",
    "earlystopping_cb = keras.callbacks.EarlyStopping(patience=25, restore_best_weights=True)\n",
    "modelcheckpoint_cb = keras.callbacks.ModelCheckpoint(\n",
    "    model_save_filename, monitor='val_accuracy', save_best_only=True)\n",
    "tensorboard_cb = keras.callbacks.TensorBoard(get_run_logdir())\n",
    "\n",
    "history = model.fit(train_ds, \n",
    "                    epochs=1000,\n",
    "                    validation_data=test_ds,\n",
    "                    callbacks=[earlystopping_cb, modelcheckpoint_cb, tensorboard_cb])"
   ]
  },
  {
   "cell_type": "code",
   "execution_count": 467,
   "id": "tutorial-raise",
   "metadata": {},
   "outputs": [],
   "source": [
    "model.save(\"final_3_class.h5\")"
   ]
  },
  {
   "cell_type": "code",
   "execution_count": 123,
   "id": "proof-breach",
   "metadata": {},
   "outputs": [
    {
     "data": {
      "text/plain": [
       "array([2, 2, 0, 2, 0, 2, 0, 0, 2, 0, 2, 0, 2, 2, 2, 2, 1, 2, 1, 1, 0, 2,\n",
       "       0, 2, 0, 1, 2, 0, 0, 1, 0, 2, 2, 2, 0, 0, 2, 2, 1, 0, 0, 0, 2, 0,\n",
       "       1, 2, 1, 2, 2, 1, 2, 2, 2, 0, 1, 0, 0, 2, 0, 0])"
      ]
     },
     "execution_count": 123,
     "metadata": {},
     "output_type": "execute_result"
    }
   ],
   "source": [
    "np.argmax(model.predict(test_ds), axis=1)"
   ]
  },
  {
   "cell_type": "code",
   "execution_count": 267,
   "id": "prospective-meaning",
   "metadata": {},
   "outputs": [
    {
     "data": {
      "image/png": "[encoded data removed]",
      "text/plain": [
       "<Figure size 432x288 with 1 Axes>"
      ]
     },
     "metadata": {
      "needs_background": "light"
     },
     "output_type": "display_data"
    }
   ],
   "source": [
    "[plt.plot(history.history[x]) for x in history.history.keys()];"
   ]
  },
  {
   "cell_type": "code",
   "execution_count": 470,
   "id": "elegant-salmon",
   "metadata": {},
   "outputs": [],
   "source": [
    "plt.style.use('ggplot')"
   ]
  },
  {
   "cell_type": "code",
   "execution_count": 524,
   "id": "valued-montana",
   "metadata": {},
   "outputs": [
    {
     "data": {
      "image/png": "[encoded data removed]",
      "text/plain": [
       "<Figure size 720x432 with 1 Axes>"
      ]
     },
     "metadata": {},
     "output_type": "display_data"
    }
   ],
   "source": [
    "fig, ax = plt.subplots(figsize=(10,6))\n",
    "ax.plot([.33] + history.history['val_accuracy'], label='Validation Accuracy')\n",
    "ax.plot([.35] + history.history['accuracy'], label='Training Accuracy')\n",
    "ax.set_xlabel(\"Epoch Number\")\n",
    "ax.set_ylim(bottom=0)\n",
    "ax.set_yticks([0,.1,.2,.3,.4,.5,.6,.7,.8,.9,1.])\n",
    "ax.set_title(\"1-Dimensional CNN on MFCCs\")\n",
    "ax.legend();"
   ]
  },
  {
   "cell_type": "code",
   "execution_count": 472,
   "id": "beautiful-cabin",
   "metadata": {},
   "outputs": [],
   "source": [
    "probabilities = model.predict(test_ds)\n",
    "y_pred = np.argmax(probabilities, axis=1)"
   ]
  },
  {
   "cell_type": "code",
   "execution_count": 474,
   "id": "bibliographic-requirement",
   "metadata": {},
   "outputs": [],
   "source": [
    "y_true = []\n",
    "for _, label in test_ds.unbatch():\n",
    "    y_true.append(label.numpy())"
   ]
  },
  {
   "cell_type": "code",
   "execution_count": 295,
   "id": "legal-reverse",
   "metadata": {},
   "outputs": [],
   "source": [
    "from sklearn.metrics import classification_report, confusion_matrix, plot_confusion_matrix"
   ]
  },
  {
   "cell_type": "code",
   "execution_count": null,
   "id": "fatal-apple",
   "metadata": {},
   "outputs": [],
   "source": [
    "total_y_pred = []\n",
    "total_labels = []"
   ]
  },
  {
   "cell_type": "code",
   "execution_count": 531,
   "id": "superb-salvation",
   "metadata": {},
   "outputs": [
    {
     "name": "stdout",
     "output_type": "stream",
     "text": [
      "[1 0 1 2 1 0 2 1 0 0 0 0 0 0 2 1]\n",
      "[1 0 1 1 1 0 2 2 0 0 0 0 0 0 2 2]\n"
     ]
    }
   ],
   "source": [
    "for audios, labels in test_ds.take(1):\n",
    "    y_pred = model.predict(audios)\n",
    "    y_pred_labels = np.argmax(y_pred, axis=1)\n",
    "    print(y_pred_labels)\n",
    "    print(labels.numpy())"
   ]
  },
  {
   "cell_type": "code",
   "execution_count": 530,
   "id": "younger-retirement",
   "metadata": {},
   "outputs": [
    {
     "name": "stdout",
     "output_type": "stream",
     "text": [
      "              precision    recall  f1-score   support\n",
      "\n",
      "           0       0.70      1.00      0.82         7\n",
      "           1       0.50      0.20      0.29         5\n",
      "           2       0.50      0.50      0.50         4\n",
      "\n",
      "    accuracy                           0.62        16\n",
      "   macro avg       0.57      0.57      0.54        16\n",
      "weighted avg       0.59      0.62      0.57        16\n",
      "\n"
     ]
    }
   ],
   "source": [
    "print(classification_report(labels.numpy(), np.argmax(y_pred, axis=1)))"
   ]
  },
  {
   "cell_type": "code",
   "execution_count": 486,
   "id": "floating-invention",
   "metadata": {},
   "outputs": [
    {
     "data": {
      "text/plain": [
       "array([1, 0, 0, 1, 2, 0, 2, 0, 0, 0, 0, 2, 1, 2, 2, 0])"
      ]
     },
     "execution_count": 486,
     "metadata": {},
     "output_type": "execute_result"
    }
   ],
   "source": [
    "labels.numpy()"
   ]
  },
  {
   "cell_type": "code",
   "execution_count": 535,
   "id": "lonely-pound",
   "metadata": {},
   "outputs": [],
   "source": [
    "test_audio_paths, test_labels, test_labels_class_dict = get_paths_and_labels(test_path)"
   ]
  },
  {
   "cell_type": "code",
   "execution_count": 551,
   "id": "magnetic-robinson",
   "metadata": {},
   "outputs": [],
   "source": [
    "y_pred_list = []\n",
    "y_pred_probabilities = []\n",
    "for audio_path in test_audio_paths:\n",
    "    mfcc = path_to_mfcc(audio_path)\n",
    "    mfcc = mfcc.reshape(1,6000,40)\n",
    "    y_pred_proba = model.predict(mfcc)\n",
    "    y_pred = np.argmax(y_pred_proba)\n",
    "    y_pred_list.append(y_pred)\n",
    "    y_pred_probabilities.append(y_pred_proba)"
   ]
  },
  {
   "cell_type": "code",
   "execution_count": 552,
   "id": "sudden-hindu",
   "metadata": {},
   "outputs": [
    {
     "name": "stdout",
     "output_type": "stream",
     "text": [
      "              precision    recall  f1-score   support\n",
      "\n",
      "           0       0.64      0.90      0.75        20\n",
      "           1       0.60      0.45      0.51        20\n",
      "           2       0.71      0.60      0.65        20\n",
      "\n",
      "    accuracy                           0.65        60\n",
      "   macro avg       0.65      0.65      0.64        60\n",
      "weighted avg       0.65      0.65      0.64        60\n",
      "\n"
     ]
    }
   ],
   "source": [
    "print(classification_report(test_labels, y_pred_list))"
   ]
  },
  {
   "cell_type": "code",
   "execution_count": 554,
   "id": "neutral-heater",
   "metadata": {},
   "outputs": [],
   "source": [
    "my_model = keras.models.load_model(\"mfcc_3class_model\")"
   ]
  },
  {
   "cell_type": "code",
   "execution_count": 555,
   "id": "premier-future",
   "metadata": {},
   "outputs": [],
   "source": [
    "y_pred_list = []\n",
    "y_pred_probabilities = []\n",
    "for audio_path in test_audio_paths:\n",
    "    mfcc = path_to_mfcc(audio_path)\n",
    "    mfcc = mfcc.reshape(1,6000,40)\n",
    "    y_pred_proba = my_model.predict(mfcc)\n",
    "    y_pred = np.argmax(y_pred_proba)\n",
    "    y_pred_list.append(y_pred)\n",
    "    y_pred_probabilities.append(y_pred_proba)"
   ]
  },
  {
   "cell_type": "code",
   "execution_count": 565,
   "id": "olympic-courage",
   "metadata": {},
   "outputs": [
    {
     "data": {
      "text/plain": [
       "{0: 'english', 1: 'spanish', 2: 'mandarin'}"
      ]
     },
     "execution_count": 565,
     "metadata": {},
     "output_type": "execute_result"
    }
   ],
   "source": [
    "test_labels_class_dict"
   ]
  },
  {
   "cell_type": "code",
   "execution_count": 575,
   "id": "moderate-bracket",
   "metadata": {},
   "outputs": [
    {
     "name": "stdout",
     "output_type": "stream",
     "text": [
      "              precision    recall  f1-score   support\n",
      "\n",
      "     english       0.74      0.85      0.79        20\n",
      "     spanish       0.70      0.70      0.70        20\n",
      "    mandarin       0.82      0.70      0.76        20\n",
      "\n",
      "    accuracy                           0.75        60\n",
      "   macro avg       0.75      0.75      0.75        60\n",
      "weighted avg       0.75      0.75      0.75        60\n",
      "\n"
     ]
    }
   ],
   "source": [
    "print(classification_report(test_labels, y_pred_list, target_names=[\"english\", \"spanish\", \"mandarin\"]))"
   ]
  },
  {
   "cell_type": "code",
   "execution_count": null,
   "id": "afraid-tiger",
   "metadata": {},
   "outputs": [],
   "source": []
  },
  {
   "cell_type": "code",
   "execution_count": 557,
   "id": "enclosed-reverse",
   "metadata": {},
   "outputs": [],
   "source": [
    "conf_mat = confusion_matrix(test_labels, y_pred_list)"
   ]
  },
  {
   "cell_type": "code",
   "execution_count": 558,
   "id": "european-thinking",
   "metadata": {},
   "outputs": [
    {
     "data": {
      "text/plain": [
       "array([[17,  3,  0],\n",
       "       [ 3, 14,  3],\n",
       "       [ 3,  3, 14]])"
      ]
     },
     "execution_count": 558,
     "metadata": {},
     "output_type": "execute_result"
    }
   ],
   "source": [
    "conf_mat"
   ]
  },
  {
   "cell_type": "code",
   "execution_count": 560,
   "id": "diverse-nerve",
   "metadata": {},
   "outputs": [],
   "source": [
    "import seaborn as sns"
   ]
  },
  {
   "cell_type": "code",
   "execution_count": 566,
   "id": "formed-falls",
   "metadata": {},
   "outputs": [],
   "source": [
    "conf_mat_df = pd.DataFrame(conf_mat, index=['english', 'spanish', 'mandarin'], columns=['english', 'spanish', 'mandarin'])"
   ]
  },
  {
   "cell_type": "code",
   "execution_count": 570,
   "id": "other-senior",
   "metadata": {},
   "outputs": [
    {
     "data": {
      "text/plain": [
       "Text(0.5, 33.0, 'Predicted label')"
      ]
     },
     "execution_count": 570,
     "metadata": {},
     "output_type": "execute_result"
    },
    {
     "data": {
      "image/png": "[encoded data removed]",
      "text/plain": [
       "<Figure size 576x432 with 2 Axes>"
      ]
     },
     "metadata": {},
     "output_type": "display_data"
    }
   ],
   "source": [
    "figure = plt.figure(figsize=(8, 6))\n",
    "sns.heatmap(conf_mat_df, annot=True,cmap=plt.cm.Blues)\n",
    "plt.ylabel('True label')\n",
    "plt.xlabel('Predicted label')"
   ]
  },
  {
   "cell_type": "code",
   "execution_count": 571,
   "id": "binding-advance",
   "metadata": {},
   "outputs": [],
   "source": [
    "incorrect_file_indexes = []\n",
    "incorrect_probabilities = []\n",
    "for idx, prediction in enumerate(y_pred_list):\n",
    "    if prediction != test_labels[idx]:\n",
    "        incorrect_file_indexes.append(idx)\n",
    "        incorrect_probabilities.append(y_pred_probabilities[idx])"
   ]
  },
  {
   "cell_type": "code",
   "execution_count": 572,
   "id": "healthy-joint",
   "metadata": {},
   "outputs": [
    {
     "data": {
      "text/plain": [
       "[9, 16, 19, 23, 27, 28, 32, 35, 38, 41, 43, 50, 55, 56, 57]"
      ]
     },
     "execution_count": 572,
     "metadata": {},
     "output_type": "execute_result"
    }
   ],
   "source": [
    "incorrect_file_indexes"
   ]
  },
  {
   "cell_type": "code",
   "execution_count": 576,
   "id": "suspected-albert",
   "metadata": {},
   "outputs": [],
   "source": [
    "incorrect_file_names = [test_audio_paths[x] for x in incorrect_file_indexes]"
   ]
  },
  {
   "cell_type": "code",
   "execution_count": 577,
   "id": "legitimate-cisco",
   "metadata": {},
   "outputs": [
    {
     "data": {
      "text/plain": [
       "['../../data/cleaned_set_44/cleaned_set_test/english/english216.wav',\n",
       " '../../data/cleaned_set_44/cleaned_set_test/english/english33.wav',\n",
       " '../../data/cleaned_set_44/cleaned_set_test/english/english563.wav',\n",
       " '../../data/cleaned_set_44/cleaned_set_test/spanish/spanish204.wav',\n",
       " '../../data/cleaned_set_44/cleaned_set_test/spanish/spanish80.wav',\n",
       " '../../data/cleaned_set_44/cleaned_set_test/spanish/spanish24.wav',\n",
       " '../../data/cleaned_set_44/cleaned_set_test/spanish/spanish85.wav',\n",
       " '../../data/cleaned_set_44/cleaned_set_test/spanish/spanish40.wav',\n",
       " '../../data/cleaned_set_44/cleaned_set_test/spanish/spanish51.wav',\n",
       " '../../data/cleaned_set_44/cleaned_set_test/mandarin/mandarin43.wav',\n",
       " '../../data/cleaned_set_44/cleaned_set_test/mandarin/mandarin40.wav',\n",
       " '../../data/cleaned_set_44/cleaned_set_test/mandarin/mandarin25.wav',\n",
       " '../../data/cleaned_set_44/cleaned_set_test/mandarin/mandarin9.wav',\n",
       " '../../data/cleaned_set_44/cleaned_set_test/mandarin/mandarin19.wav',\n",
       " '../../data/cleaned_set_44/cleaned_set_test/mandarin/mandarin67.wav']"
      ]
     },
     "execution_count": 577,
     "metadata": {},
     "output_type": "execute_result"
    }
   ],
   "source": [
    "incorrect_file_names"
   ]
  },
  {
   "cell_type": "code",
   "execution_count": 574,
   "id": "opposed-airfare",
   "metadata": {},
   "outputs": [
    {
     "data": {
      "text/plain": [
       "[array([[0.07103086, 0.88858825, 0.04038089]], dtype=float32),\n",
       " array([[0.27022323, 0.46773583, 0.26204103]], dtype=float32),\n",
       " array([[0.33677068, 0.3798345 , 0.28339475]], dtype=float32),\n",
       " array([[0.98114324, 0.00692125, 0.01193542]], dtype=float32),\n",
       " array([[0.02138234, 0.21230365, 0.766314  ]], dtype=float32),\n",
       " array([[0.37533244, 0.16593663, 0.458731  ]], dtype=float32),\n",
       " array([[0.02691042, 0.08311035, 0.88997924]], dtype=float32),\n",
       " array([[9.9835473e-01, 6.3308311e-04, 1.0122445e-03]], dtype=float32),\n",
       " array([[0.99619836, 0.00203414, 0.00176744]], dtype=float32),\n",
       " array([[0.10450789, 0.5875404 , 0.30795166]], dtype=float32),\n",
       " array([[0.93784195, 0.01839231, 0.04376573]], dtype=float32),\n",
       " array([[0.75049603, 0.10933165, 0.14017226]], dtype=float32),\n",
       " array([[0.01334614, 0.670297  , 0.3163568 ]], dtype=float32),\n",
       " array([[0.08417894, 0.67156774, 0.24425326]], dtype=float32),\n",
       " array([[0.8337135 , 0.12536836, 0.04091813]], dtype=float32)]"
      ]
     },
     "execution_count": 574,
     "metadata": {},
     "output_type": "execute_result"
    }
   ],
   "source": [
    "incorrect_probabilities"
   ]
  },
  {
   "cell_type": "code",
   "execution_count": null,
   "id": "clean-expert",
   "metadata": {},
   "outputs": [],
   "source": []
  }
 ],
 "metadata": {
  "kernelspec": {
   "display_name": "Environment (conda_tensorflow2_latest_p37)",
   "language": "python",
   "name": "conda_tensorflow2_latest_p37"
  },
  "language_info": {
   "codemirror_mode": {
    "name": "ipython",
    "version": 3
   },
   "file_extension": ".py",
   "mimetype": "text/x-python",
   "name": "python",
   "nbconvert_exporter": "python",
   "pygments_lexer": "ipython3",
   "version": "3.7.10"
  }
 },
 "nbformat": 4,
 "nbformat_minor": 5
}
